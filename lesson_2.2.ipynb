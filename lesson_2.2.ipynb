{
 "cells": [
  {
   "cell_type": "code",
   "execution_count": 1,
   "outputs": [],
   "source": [
    "import numpy as np\n",
    "import math"
   ],
   "metadata": {
    "collapsed": false,
    "pycharm": {
     "name": "#%%\n"
    }
   }
  },
  {
   "cell_type": "markdown",
   "source": [
    "### Задача 1\n",
    "Вычислить определитель:\n",
    "\n",
    "a)\n",
    "\n",
    "---|---\n",
    "sin x | −cos x\n",
    "cos x | sin x\n",
    "\n",
    "\n",
    "б)\n",
    "\n",
    "---|---\n",
    "4 | 2 | 3\n",
    "0 | 5 | 1\n",
    "0 | 0 | 9\n",
    "\n",
    "в)\n",
    "\n",
    "---|---\n",
    "1 | 2 | 3\n",
    "4 | 5 | 6\n",
    "7 | 8 | 9"
   ],
   "metadata": {
    "collapsed": false,
    "pycharm": {
     "name": "#%% md\n"
    }
   }
  },
  {
   "cell_type": "code",
   "source": [
    "# Значение х не важно так как всегда будет 1, т.к. sin^2(x) + cos^2(x) = 1\n",
    "detA = math.sin(1) * math.sin(1) - (- math.cos(1)) * math.cos(1)\n",
    "\n",
    "print(f'Детерминант матрицы равен {detA}')"
   ],
   "metadata": {
    "collapsed": false,
    "pycharm": {
     "name": "#%%\n"
    }
   },
   "execution_count": 5,
   "outputs": [
    {
     "name": "stdout",
     "output_type": "stream",
     "text": [
      "Детерминант матрицы равен 1.0\n"
     ]
    }
   ]
  },
  {
   "cell_type": "code",
   "execution_count": 6,
   "outputs": [
    {
     "name": "stdout",
     "output_type": "stream",
     "text": [
      "Детерминант матрицы равен 180\n"
     ]
    }
   ],
   "source": [
    "# т.к. матрица верхнетругольная то для определения детерминанта достаточно вычислить произведение элементов главной диагонали\n",
    "B = np.array([[4, 2, 3], [0, 5, 1], [0, 0, 9]])\n",
    "\n",
    "detB = 4 * 5 * 9\n",
    "print(f'Детерминант матрицы равен {detB}')"
   ],
   "metadata": {
    "collapsed": false,
    "pycharm": {
     "name": "#%%\n"
    }
   }
  },
  {
   "cell_type": "markdown",
   "source": [
    "Т.к. все векторы данной матрицы линейно зависимы, то детерминант равен 0"
   ],
   "metadata": {
    "collapsed": false,
    "pycharm": {
     "name": "#%% md\n"
    }
   }
  },
  {
   "cell_type": "markdown",
   "source": [
    "### Задача 2\n",
    "Определитель матрицы A равен 4.\n",
    "Найти:\n",
    "а)  det(A^2^)\n",
    "б)  det(A^T^)\n",
    "в)  det(2A)"
   ],
   "metadata": {
    "collapsed": false,
    "pycharm": {
     "name": "#%% md\n"
    }
   }
  },
  {
   "cell_type": "markdown",
   "source": [
    "а) det(A^2^) = det(A) * det(A) = 4 * 4 = 16\n",
    "б) т.к. det(A^T^) = det(A), то ответ 4\n",
    "в) det(A^2^) = 2 * det(A) = 2 * 4 = 8"
   ],
   "metadata": {
    "collapsed": false,
    "pycharm": {
     "name": "#%% md\n"
    }
   }
  },
  {
   "cell_type": "markdown",
   "source": [
    "### Задача 3\n",
    "Доказать, что матрица\n",
    "\n",
    "---|---\n",
    "-2 | 7 | -3\n",
    "4 | -14 | 6\n",
    "-3 | 7 | 13\n",
    "\n",
    "вырожденная.\n"
   ],
   "metadata": {
    "collapsed": false,
    "pycharm": {
     "name": "#%% md\n"
    }
   }
  },
  {
   "cell_type": "markdown",
   "source": [
    "Т.к. векторы {-2, 7, -3} и {4, -14, 6} линейно зависимы то определитель равен 0, следовательно - матрица вырожденная"
   ],
   "metadata": {
    "collapsed": false,
    "pycharm": {
     "name": "#%% md\n"
    }
   }
  },
  {
   "cell_type": "markdown",
   "source": [
    "### Задача 4\n",
    "Найти ранг матрицы:\n",
    "\n",
    "а)\n",
    "\n",
    "---|---\n",
    "1 | 2 | 3\n",
    "1 | 1 | 1\n",
    "2 | 3 | 4\n",
    "\n",
    "б)\n",
    "\n",
    "---|---\n",
    "0 | 0 | 2 | 1\n",
    "0 | 0 | 2 | 2\n",
    "0 | 0 | 4 | 3\n",
    "2 | 3 | 5 | 6"
   ],
   "metadata": {
    "collapsed": false
   }
  },
  {
   "cell_type": "markdown",
   "source": [
    "а) Третий вектор является суммой первого и второго вектора, следовательно - его можно отбросить.\n",
    "Получаем матрицу размером 2 * 3, значит ранг не будет превосходить 2.\n",
    "Оставшиеся два вектора линейно независимы - следовательно ранг матрицы равен 2"
   ],
   "metadata": {
    "collapsed": false,
    "pycharm": {
     "name": "#%% md\n"
    }
   }
  },
  {
   "cell_type": "markdown",
   "source": [
    "б) третий вектор является суммой первого и второго вектора, следовательно - его можно отбросить.\n",
    "Получаем матрицу размером 3 * 4, значит ранг не будет превосходить 3.\n",
    "Оставшиеся три вектора линейно независимы - следовательно ранг матрицы равен 3"
   ],
   "metadata": {
    "collapsed": false,
    "pycharm": {
     "name": "#%% md\n"
    }
   }
  }
 ],
 "metadata": {
  "kernelspec": {
   "display_name": "Python 3",
   "language": "python",
   "name": "python3"
  },
  "language_info": {
   "codemirror_mode": {
    "name": "ipython",
    "version": 2
   },
   "file_extension": ".py",
   "mimetype": "text/x-python",
   "name": "python",
   "nbconvert_exporter": "python",
   "pygments_lexer": "ipython2",
   "version": "2.7.6"
  }
 },
 "nbformat": 4,
 "nbformat_minor": 0
}