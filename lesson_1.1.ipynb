{
 "cells": [
  {
   "cell_type": "code",
   "execution_count": 7,
   "outputs": [],
   "source": [
    "import numpy as np"
   ],
   "metadata": {
    "collapsed": false,
    "pycharm": {
     "name": "#%%\n"
    }
   }
  },
  {
   "cell_type": "markdown",
   "source": [
    "### Задача 1\n",
    "Исследовать на линейную зависимость:\n",
    "\n",
    "f1(x) = e^x^\n",
    "f2(x) = 1\n",
    "f3(x) = x + 1\n",
    "f4(x) = x - e^x^\n",
    "\n"
   ],
   "metadata": {
    "collapsed": false
   }
  },
  {
   "cell_type": "markdown",
   "source": [
    "т.к. f4(x) = f3(x) - f2(x) - f1(x) то считаем что векторы линейно зависимы"
   ],
   "metadata": {
    "collapsed": false,
    "pycharm": {
     "name": "#%% md\n"
    }
   }
  },
  {
   "cell_type": "markdown",
   "source": [
    "### Задача 2\n",
    "Исследовать на линейную зависимость:\n",
    "f1(x) = 2\n",
    "f2(x) = x\n",
    "f3(x) = x^2^\n",
    "f4(x) = (x+1)^2^"
   ],
   "metadata": {
    "collapsed": false,
    "pycharm": {
     "name": "#%% md\n"
    }
   }
  },
  {
   "cell_type": "markdown",
   "source": [
    "т.к. f4(x) = f3(x) + f2(x) + f1(x), то считаем что векторы линейно зависимы"
   ],
   "metadata": {
    "collapsed": false,
    "pycharm": {
     "name": "#%% md\n"
    }
   }
  },
  {
   "cell_type": "markdown",
   "source": [
    " ### Задача 3\n",
    " Найти координаты вектора  x=(2,3,5) ∈ R3  в базисе  b1=(0,0,10) ,  b2=(2,0,0) ,  b3=(0,1,0) ."
   ],
   "metadata": {
    "collapsed": false,
    "pycharm": {
     "name": "#%% md\n"
    }
   }
  },
  {
   "cell_type": "code",
   "source": [
    "x = np.array([2, 3, 5])\n",
    "b1 = np.array([0, 0, 10])\n",
    "b2 = np.array([2, 0, 0])\n",
    "b3 = np.array([0, 1, 0])\n",
    "\n",
    "x1 = 1/2 * b1 + b2 + 3 * b3\n",
    "print(x == x1)"
   ],
   "metadata": {
    "collapsed": false,
    "pycharm": {
     "name": "#%%\n"
    }
   },
   "execution_count": 8,
   "outputs": [
    {
     "name": "stdout",
     "output_type": "stream",
     "text": [
      "[ True  True  True]\n"
     ]
    }
   ]
  },
  {
   "cell_type": "markdown",
   "source": [
    "### Задача 4\n",
    "Найти координаты вектора 3x^2^−2x+2 ∈ R^3^[x]:\n",
    "а) в базисе  1 ,  x ,  x^2^ ;\n",
    "б) в базисе  x^2^ ,  x−1 ,  1 ."
   ],
   "metadata": {
    "collapsed": false,
    "pycharm": {
     "name": "#%% md\n"
    }
   }
  },
  {
   "cell_type": "markdown",
   "source": [
    "#### a) Решение\n",
    "3x^2^−2x+2 = 3 * (x^2^) + (-2) * (x) + 2 * 1"
   ],
   "metadata": {
    "collapsed": false,
    "pycharm": {
     "name": "#%% md\n"
    }
   }
  },
  {
   "cell_type": "markdown",
   "source": [
    "#### б) Решение\n",
    "3x^2^−2x+2 = 3 * (x^2^) + (-2) * (x-1) + 0 * 1"
   ],
   "metadata": {
    "collapsed": false,
    "pycharm": {
     "name": "#%% md\n"
    }
   }
  },
  {
   "cell_type": "markdown",
   "source": [
    "### Задача 5\n",
    "Установить, является ли линейным подпространством:\n",
    "а) совокупность всех векторов трехмерного пространства, у которых по крайней мере одна из первых двух координат равна нулю;\n",
    "\n",
    "б) все векторы, являющиеся линейными комбинациями данных векторов  {u1,u2,…,un} ."
   ],
   "metadata": {
    "collapsed": false,
    "pycharm": {
     "name": "#%% md\n"
    }
   }
  },
  {
   "cell_type": "markdown",
   "source": [
    "#### а) Решение\n",
    "Для решения задачи рассмотрим 3 случая и ответим на вопрос является комбинация данных векторов подпространством трехмерного пространства.\n",
    "1) Только первая координата равна 0 - (0,a,b)\n",
    "    (0,a,b) + (0,c,d) = (0,a+c,b+d),\n",
    "    α⋅(0,a,b) = (0,αa,αb).\n",
    "    Данная совокупность является подпространством R^3^\n",
    "2) Только вторая координата равна 0 - (a,0,b)\n",
    "    (a,0,b) + (c,0,d) = (a+c,0,b+d),\n",
    "    α⋅(a,0,b) = (αa,0,αb).\n",
    "    Данная совокупность является подпространством R^3^\n",
    "3) Первая и вторая координаты равна 0 - (0,0,a)\n",
    "    (0,0,b) + (0,0,d) = (0,0,b+d),\n",
    "    α⋅(0,0,b) = (0,0,αb).\n",
    "    Данная совокупность является подпространством R^3^\n",
    "Так как все три совокупности являются подпространство R^3^, то совокупность этих пространств будет являться подпространством R^3^"
   ],
   "metadata": {
    "collapsed": false,
    "pycharm": {
     "name": "#%% md\n"
    }
   }
  },
  {
   "cell_type": "markdown",
   "source": [
    "#### б) Решение\n",
    "Т.к. размерность любого подпространства n-мерного линейного пространства не превосходит размерности n этого пространства, то ответ да являются."
   ],
   "metadata": {
    "collapsed": false,
    "pycharm": {
     "name": "#%% md\n"
    }
   }
  }
 ],
 "metadata": {
  "kernelspec": {
   "display_name": "Python 3",
   "language": "python",
   "name": "python3"
  },
  "language_info": {
   "codemirror_mode": {
    "name": "ipython",
    "version": 2
   },
   "file_extension": ".py",
   "mimetype": "text/x-python",
   "name": "python",
   "nbconvert_exporter": "python",
   "pygments_lexer": "ipython2",
   "version": "2.7.6"
  }
 },
 "nbformat": 4,
 "nbformat_minor": 0
}