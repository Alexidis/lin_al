{
 "cells": [
  {
   "cell_type": "code",
   "execution_count": 156,
   "outputs": [],
   "source": [
    "import numpy as np"
   ],
   "metadata": {
    "collapsed": false,
    "pycharm": {
     "name": "#%%\n"
    }
   }
  },
  {
   "cell_type": "markdown",
   "source": [
    "### Задача 1\n",
    "Решить систему уравнений методом Крамера:"
   ],
   "metadata": {
    "collapsed": false
   }
  },
  {
   "cell_type": "code",
   "execution_count": 157,
   "outputs": [],
   "source": [
    "def kramer(base_m, free_members):\n",
    "    eps = 0.0000000001\n",
    "    if base_m.shape[0] != base_m.shape[1]:\n",
    "        raise Exception ('Матрица не квадратная')\n",
    "\n",
    "    detA = np.linalg.det(base_m)\n",
    "    res = []\n",
    "    if detA and detA > eps:\n",
    "        for col in range(0, base_m.shape[1]):\n",
    "            A_ = base_m.copy()\n",
    "            A_[:, col] = free_members\n",
    "            detA_ = np.linalg.det(A_)\n",
    "            common_res = round(detA_ / detA, 5)\n",
    "            res.append(common_res)\n",
    "    return res"
   ],
   "metadata": {
    "collapsed": false,
    "pycharm": {
     "name": "#%%\n"
    }
   }
  },
  {
   "cell_type": "markdown",
   "source": [
    "а) $\\begin{cases} x_{1}-2x_{2}=1 \\\\ 3x_{1}-4x_{2}=7 \\end{cases}$"
   ],
   "metadata": {
    "collapsed": false,
    "pycharm": {
     "name": "#%% md\n"
    }
   }
  },
  {
   "cell_type": "code",
   "execution_count": 158,
   "outputs": [
    {
     "name": "stdout",
     "output_type": "stream",
     "text": [
      "Частные решения системы методом Крамера [5.0, 2.0]\n"
     ]
    }
   ],
   "source": [
    "A =np.array([[1, -2],\n",
    "             [3, -4]])\n",
    "b = np.array([1, 7])\n",
    "\n",
    "kramer_res = kramer(A, b)\n",
    "print(f'Частные решения системы методом Крамера {kramer_res}')"
   ],
   "metadata": {
    "collapsed": false,
    "pycharm": {
     "name": "#%%\n"
    }
   }
  },
  {
   "cell_type": "markdown",
   "source": [
    "б) $\\begin{cases} 2x_{1}-x_{2}+5x_{3}=10 \\\\ x_{1}+x_{2}-3x_{3}=-2 \\\\ 2x_{1}+4x_{2}+x_{3}=1 \\end{cases}$"
   ],
   "metadata": {
    "collapsed": false,
    "pycharm": {
     "name": "#%% md\n"
    }
   }
  },
  {
   "cell_type": "code",
   "execution_count": 159,
   "outputs": [
    {
     "name": "stdout",
     "output_type": "stream",
     "text": [
      "Частные решения системы методом Крамера [2.0, -1.0, 1.0]\n"
     ]
    }
   ],
   "source": [
    "A =np.array([[2, -1, 5],\n",
    "             [1, 1, -3],\n",
    "             [2, 4, 1]])\n",
    "b = np.array([10, -2, 1])\n",
    "\n",
    "kramer_res = kramer(A, b)\n",
    "print(f'Частные решения системы методом Крамера {kramer_res}')"
   ],
   "metadata": {
    "collapsed": false,
    "pycharm": {
     "name": "#%%\n"
    }
   }
  },
  {
   "cell_type": "markdown",
   "source": [
    "### Задача 2\n",
    "Найти $L$-матрицу $LU$-разложения для матрицы коэффициентов:"
   ],
   "metadata": {
    "collapsed": false,
    "pycharm": {
     "name": "#%% md\n"
    }
   }
  },
  {
   "cell_type": "code",
   "execution_count": 160,
   "outputs": [],
   "source": [
    "def solve_LU(lu_matrix, b):\n",
    "    \"\"\"Solve system of equations from given LU-matrix and vector b of absolute terms.\n",
    "    :param lu_matrix: numpy LU-matrix\n",
    "    :param b: numpy matrix of absolute terms [n x 1]\n",
    "    :return: numpy matrix of answers [n x 1]\n",
    "    \"\"\"\n",
    "    n = lu_matrix.shape[0]\n",
    "    # get supporting vector y\n",
    "    y = np.matrix(np.zeros([n, 1]))\n",
    "    for i in range(y.shape[0]):\n",
    "        y[i, 0] = b[i, 0] - lu_matrix[i, :i] * y[:i]\n",
    "\n",
    "    # get vector of answers x\n",
    "    x = np.matrix(np.zeros([n, 1]))\n",
    "    for i in range(1, x.shape[0] + 1):\n",
    "        x[-i, 0] = (y[-i] - lu_matrix[-i, -i:] * x[-i:, 0] )/ lu_matrix[-i, -i]\n",
    "\n",
    "    return x"
   ],
   "metadata": {
    "collapsed": false,
    "pycharm": {
     "name": "#%%\n"
    }
   }
  },
  {
   "cell_type": "code",
   "execution_count": 161,
   "outputs": [],
   "source": [
    "def decompose_to_LU(a):\n",
    "    \"\"\"Decompose matrix of coefficients to L and U matrices.\n",
    "     L and U triangular matrices will be represented in a single nxn matrix.\n",
    "    :param a: numpy matrix of coefficients\n",
    "    :return: numpy LU matrix\n",
    "    \"\"\"\n",
    "    # create emtpy LU-matrix\n",
    "    lu_matrix = np.matrix(np.zeros([a.shape[0], a.shape[1]]))\n",
    "    n = a.shape[0]\n",
    "\n",
    "    for k in range(n):\n",
    "        # calculate all residual k-row elements\n",
    "        for j in range(k, n):\n",
    "            lu_matrix[k, j] = a[k, j] - lu_matrix[k, :k] * lu_matrix[:k, j]\n",
    "        # calculate all residual k-column elements\n",
    "        for i in range(k + 1, n):\n",
    "            lu_matrix[i, k] = (a[i, k] - lu_matrix[i, : k] * lu_matrix[: k, k]) / lu_matrix[k, k]\n",
    "\n",
    "    return lu_matrix"
   ],
   "metadata": {
    "collapsed": false,
    "pycharm": {
     "name": "#%%\n"
    }
   }
  },
  {
   "cell_type": "code",
   "execution_count": 162,
   "outputs": [],
   "source": [
    "def get_L(m):\n",
    "    \"\"\"Get triangular L matrix from a single LU-matrix\n",
    "    :param m: numpy LU-matrix\n",
    "    :return: numpy triangular L matrix\n",
    "    \"\"\"\n",
    "    L = m.copy()\n",
    "    for i in range(L.shape[0]):\n",
    "        L[i, i] = 1\n",
    "        L[i, i+1 :] = 0\n",
    "    return np.matrix(L)"
   ],
   "metadata": {
    "collapsed": false,
    "pycharm": {
     "name": "#%%\n"
    }
   }
  },
  {
   "cell_type": "markdown",
   "source": [
    "а)$$\\begin{pmatrix} 1 & 2 & 4 \\\\ 2 & 9 & 12 \\\\ 3 & 26 & 30 \\end{pmatrix}$$"
   ],
   "metadata": {
    "collapsed": false,
    "pycharm": {
     "name": "#%% md\n"
    }
   }
  },
  {
   "cell_type": "code",
   "execution_count": 163,
   "outputs": [
    {
     "data": {
      "text/plain": "matrix([[1., 0., 0.],\n        [2., 1., 0.],\n        [3., 4., 1.]])"
     },
     "execution_count": 163,
     "metadata": {},
     "output_type": "execute_result"
    }
   ],
   "source": [
    "A =np.array([[1, 2, 4],\n",
    "             [2, 9, 12],\n",
    "             [3, 26, 30]])\n",
    "get_L(decompose_to_LU(A))"
   ],
   "metadata": {
    "collapsed": false,
    "pycharm": {
     "name": "#%%\n"
    }
   }
  },
  {
   "cell_type": "markdown",
   "source": [
    "б)$$\\begin{pmatrix} 1 & 1 & 2 & 4\\\\ 2 & 5 & 8 & 9\\\\ 3 & 18 & 29 & 18\\\\ 4 & 22 & 53 & 33 \\end{pmatrix}$$"
   ],
   "metadata": {
    "collapsed": false,
    "pycharm": {
     "name": "#%% md\n"
    }
   }
  },
  {
   "cell_type": "code",
   "execution_count": 164,
   "outputs": [
    {
     "data": {
      "text/plain": "matrix([[1., 0., 0., 0.],\n        [2., 1., 0., 0.],\n        [3., 5., 1., 0.],\n        [4., 6., 7., 1.]])"
     },
     "execution_count": 164,
     "metadata": {},
     "output_type": "execute_result"
    }
   ],
   "source": [
    "A =np.array([[1, 1, 2, 4],\n",
    "             [2, 5, 8, 9],\n",
    "             [3, 18, 29, 18],\n",
    "             [4, 22, 53, 33]])\n",
    "get_L(decompose_to_LU(A))"
   ],
   "metadata": {
    "collapsed": false,
    "pycharm": {
     "name": "#%%\n"
    }
   }
  },
  {
   "cell_type": "markdown",
   "source": [
    "### Задача 3\n",
    "Решить систему линейных уравнений методом $LU$$LU$-разложения\n",
    "\n",
    "$$\\begin{cases} 2x_{1}+x_{2}+3x_{3}=1 \\\\ 11x_{1}+7x_{2}+5x_{3}=-6 \\\\ 9x_{1}+8x_{2}+4x_{3}=-5 \\end{cases}$$\n"
   ],
   "metadata": {
    "collapsed": false,
    "pycharm": {
     "name": "#%% md\n"
    }
   }
  },
  {
   "cell_type": "code",
   "execution_count": 165,
   "outputs": [
    {
     "data": {
      "text/plain": "matrix([[-1.,  0.,  1.]])"
     },
     "execution_count": 165,
     "metadata": {},
     "output_type": "execute_result"
    }
   ],
   "source": [
    "A =np.array([[2, 1, 3],\n",
    "             [11, 7, 5],\n",
    "             [9, 8, 4]])\n",
    "\n",
    "b = np.matrix([1, -6, -5]).T\n",
    "\n",
    "LU = decompose_to_LU(A)\n",
    "solve_LU(LU, b).T"
   ],
   "metadata": {
    "collapsed": false,
    "pycharm": {
     "name": "#%%\n"
    }
   }
  },
  {
   "cell_type": "markdown",
   "source": [
    "### Задача 4\n",
    "Решить систему линейных уравнений методом Холецкого\n",
    "\n",
    "$$\\begin{cases} 81x_{1}-45x_{2}+45x_{3}=531 \\\\ -45x_{1}+50x_{2}-15x_{3}=-460 \\\\ 45x_{1}-15x_{2}+38x_{3}=193 \\end{cases}$$"
   ],
   "metadata": {
    "collapsed": false,
    "pycharm": {
     "name": "#%% md\n"
    }
   }
  },
  {
   "cell_type": "code",
   "execution_count": 166,
   "outputs": [],
   "source": [
    "A =np.array([[81, -45, 45],\n",
    "             [-45, 50, -15],\n",
    "             [45, -15, 38]])\n",
    "\n",
    "b = np.array([531, -460, 193])"
   ],
   "metadata": {
    "collapsed": false,
    "pycharm": {
     "name": "#%%\n"
    }
   }
  },
  {
   "cell_type": "code",
   "execution_count": 167,
   "outputs": [
    {
     "data": {
      "text/plain": "array([[ 9.,  0.,  0.],\n       [-5.,  5.,  0.],\n       [ 5.,  2.,  3.]])"
     },
     "execution_count": 167,
     "metadata": {},
     "output_type": "execute_result"
    }
   ],
   "source": [
    "lu_matrix = np.linalg.cholesky(A)\n",
    "lu_matrix"
   ],
   "metadata": {
    "collapsed": false,
    "pycharm": {
     "name": "#%%\n"
    }
   }
  },
  {
   "cell_type": "code",
   "execution_count": 168,
   "outputs": [],
   "source": [
    "y1 = 531 / 9\n",
    "y2 = (-460 + 5 * y1)/5\n",
    "y3 = (193 - 5 * y1 -2 * y2)/3"
   ],
   "metadata": {
    "collapsed": false,
    "pycharm": {
     "name": "#%%\n"
    }
   }
  },
  {
   "cell_type": "code",
   "execution_count": 169,
   "outputs": [
    {
     "data": {
      "text/plain": "array([[ 9., -5.,  5.],\n       [ 0.,  5.,  2.],\n       [ 0.,  0.,  3.]])"
     },
     "execution_count": 169,
     "metadata": {},
     "output_type": "execute_result"
    }
   ],
   "source": [
    "lu_matrix.T"
   ],
   "metadata": {
    "collapsed": false,
    "pycharm": {
     "name": "#%%\n"
    }
   }
  },
  {
   "cell_type": "code",
   "execution_count": 170,
   "outputs": [
    {
     "name": "stdout",
     "output_type": "stream",
     "text": [
      "6.0 -5.0 -4.0\n"
     ]
    }
   ],
   "source": [
    "x3 = y3 / 3\n",
    "x2 = (y2 - 2 * x3) / 5\n",
    "x1 = (y1 - 5 * x3 + 5 * x2)/9\n",
    "\n",
    "print(f'{x1} {x2} {x3}')"
   ],
   "metadata": {
    "collapsed": false,
    "pycharm": {
     "name": "#%%\n"
    }
   }
  }
 ],
 "metadata": {
  "kernelspec": {
   "display_name": "Python 3",
   "language": "python",
   "name": "python3"
  },
  "language_info": {
   "codemirror_mode": {
    "name": "ipython",
    "version": 2
   },
   "file_extension": ".py",
   "mimetype": "text/x-python",
   "name": "python",
   "nbconvert_exporter": "python",
   "pygments_lexer": "ipython2",
   "version": "2.7.6"
  }
 },
 "nbformat": 4,
 "nbformat_minor": 0
}