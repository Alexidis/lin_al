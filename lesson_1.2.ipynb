{
 "cells": [
  {
   "cell_type": "code",
   "execution_count": 268,
   "outputs": [],
   "source": [
    "import numpy as np\n",
    "import math"
   ],
   "metadata": {
    "collapsed": false,
    "pycharm": {
     "name": "#%%\n"
    }
   }
  },
  {
   "cell_type": "markdown",
   "source": [
    "### Задача 1\n",
    "Найти скалярное произведение векторов  x, y ∈ R :\n",
    "    а)  x=(0,−3,6), y=(−4,7,9);\n",
    "    б)  x=(7,−4,0,1), y=(−3,1,11,2)."
   ],
   "metadata": {
    "collapsed": false
   }
  },
  {
   "cell_type": "code",
   "execution_count": 269,
   "outputs": [],
   "source": [
    "def manual_dot(x_list, y_list):\n",
    "    x = np.array(x_list)\n",
    "    y = np.array(y_list)\n",
    "    np_x_y = x @ y\n",
    "\n",
    "    manual_x_y = sum([x1 * y1 for x1, y1 in zip(x_list, y_list)])\n",
    "    if manual_x_y == np_x_y:\n",
    "        print(f'Ручное решение найдено верно и равно {manual_x_y}')\n",
    "    else:\n",
    "        print(f'Ошибка правильный ответ {np_x_y}, а руками посчитал {manual_x_y}')"
   ],
   "metadata": {
    "collapsed": false,
    "pycharm": {
     "name": "#%%\n"
    }
   }
  },
  {
   "cell_type": "code",
   "execution_count": 270,
   "outputs": [
    {
     "name": "stdout",
     "output_type": "stream",
     "text": [
      "Ручное решение найдено верно и равно 33\n"
     ]
    }
   ],
   "source": [
    "# Решение а)\n",
    "manual_dot([0, -3, 6], [-4, 7, 9])"
   ],
   "metadata": {
    "collapsed": false,
    "pycharm": {
     "name": "#%%\n"
    }
   }
  },
  {
   "cell_type": "code",
   "execution_count": 271,
   "outputs": [
    {
     "name": "stdout",
     "output_type": "stream",
     "text": [
      "Ручное решение найдено верно и равно -23\n"
     ]
    }
   ],
   "source": [
    "# Решение б)\n",
    "manual_dot([7, -4, 0, 1], [-3, 1, 11, 2])"
   ],
   "metadata": {
    "collapsed": false,
    "pycharm": {
     "name": "#%%\n"
    }
   }
  },
  {
   "cell_type": "markdown",
   "source": [
    "### Задача 2\n",
    "Найти нормы векторов (4,2,4) и (12,3,4) и угол между ними."
   ],
   "metadata": {
    "collapsed": false,
    "pycharm": {
     "name": "#%% md\n"
    }
   }
  },
  {
   "cell_type": "code",
   "execution_count": 272,
   "outputs": [
    {
     "name": "stdout",
     "output_type": "stream",
     "text": [
      "Норма вектора a[4 2 4] равна 6.0\n",
      "Норма вектора b[12  3  4] равна 13.0\n",
      "Угол между этими векторами равен 26.17695\n"
     ]
    }
   ],
   "source": [
    "a = np.array([4, 2, 4])\n",
    "b = np.array([12, 3, 4])\n",
    "\n",
    "a_norm = np.linalg.norm(a)\n",
    "b_norm = np.linalg.norm(b)\n",
    "phi = math.degrees(math.acos(np.dot(a, b) / a_norm / b_norm))\n",
    "\n",
    "\n",
    "print(f'Норма вектора a{a} равна {a_norm}\\n'\n",
    "      f'Норма вектора b{b} равна {b_norm}\\n'\n",
    "      f'Угол между этими векторами равен {phi:0.5f}')"
   ],
   "metadata": {
    "collapsed": false,
    "pycharm": {
     "name": "#%%\n"
    }
   }
  },
  {
   "cell_type": "markdown",
   "source": [
    "### Задача 3\n",
    "Будет ли линейное пространство евклидовым, если за скалярное произведение принять:\n",
    "    а) произведение длин векторов;\n",
    "    б) утроенное обычное скалярное произведение векторов?"
   ],
   "metadata": {
    "collapsed": false,
    "pycharm": {
     "name": "#%% md\n"
    }
   }
  },
  {
   "cell_type": "code",
   "execution_count": 273,
   "outputs": [],
   "source": [
    "def is_evklid(func, x1:np.array, y1:np.array, lam=2.0)->bool:\n",
    "    \"\"\"\n",
    "    Проверяет будет ли линейное пространство евклидовым, если за скалярное произведение определенная функция\n",
    "    :param func: функция расчета скаляра\n",
    "    :param x1: вектор a\n",
    "    :param y1: вектор b\n",
    "    :param lam: константа для проверки одной из аксиом\n",
    "    :return: релевантности функции для евклидова пространства\n",
    "    \"\"\"\n",
    "    errors = ''\n",
    "    res = func(x1, y1)\n",
    "    rev_res = func(y1, x1)\n",
    "    if res != rev_res:\n",
    "        errors += '     cимметричность ' \\\n",
    "                  f'func(a, b) = {res}, ' \\\n",
    "                  f'func(b, a) = {rev_res}\\n'\n",
    "    const_res = func(lam * x1, y1)\n",
    "    lam_res = lam * res\n",
    "    if func(lam * x1, y1) != lam_res:\n",
    "        errors += '    билинейность констант ' \\\n",
    "                  f'func({lam} * a, b) = {const_res}, ' \\\n",
    "                  f'({lam} * func(a, b)) = {lam_res}\\n'\n",
    "    a1 = np.random.rand(1, x1.size)[0] * 100 // 1\n",
    "    sum1 = func(x1 + a1, y1)\n",
    "    sum2 = (func(x1, y1) + func(a1, y1))\n",
    "    if sum1 != sum2:\n",
    "        errors += f'    билинейность переменных ' \\\n",
    "                  f'a1 = {a1}, ' \\\n",
    "                  f'func(a + a1, b) = {sum1:0.5f}, ' \\\n",
    "                  f'func(a, b) + func(a1, b) = {sum2:0.5f}\\n'\n",
    "    if func(x1, x1) < 0 or func(0, 0) != 0.0:\n",
    "        errors += f'    положительная определённость ' \\\n",
    "                  f'func(a, a) = {func(x1, x1)}, ' \\\n",
    "                  f'func(0, 0) = {func(0, 0)}'\n",
    "    if errors:\n",
    "        print(f'Не соблюдены правила:\\n{errors}')\n",
    "        return False\n",
    "    return True"
   ],
   "metadata": {
    "collapsed": false,
    "pycharm": {
     "name": "#%%\n"
    }
   }
  },
  {
   "cell_type": "code",
   "execution_count": 274,
   "outputs": [],
   "source": [
    "# решение а)\n",
    "\n",
    "def mul_len(x:np.array, y:np.array):\n",
    "    x_n = np.linalg.norm(x)\n",
    "    y_n = np.linalg.norm(y)\n",
    "    return x_n * y_n"
   ],
   "metadata": {
    "collapsed": false,
    "pycharm": {
     "name": "#%%\n"
    }
   }
  },
  {
   "cell_type": "code",
   "execution_count": 275,
   "outputs": [
    {
     "name": "stdout",
     "output_type": "stream",
     "text": [
      "При использовании произведение длин векторов\n",
      "Не соблюдены правила:\n",
      "    билинейность переменных a1 = [53. 82. 65.], func(a + a1, b) = 1595.66726, func(a, b) + func(a1, b) = 1602.82851\n",
      "\n",
      "не пространство будет евклидовым\n"
     ]
    }
   ],
   "source": [
    "a = np.array([4, 2, 4])\n",
    "b = np.array([12, 3, 4])\n",
    "print('При использовании произведение длин векторов')\n",
    "if is_evklid(mul_len, a, b, 4):\n",
    "    print('пространство будет евклидовым')\n",
    "else:\n",
    "    print('не пространство будет евклидовым')"
   ],
   "metadata": {
    "collapsed": false,
    "pycharm": {
     "name": "#%%\n"
    }
   }
  },
  {
   "cell_type": "code",
   "execution_count": 276,
   "outputs": [],
   "source": [
    "# Решение б)\n",
    "def three_dot(x, y):\n",
    "    return 3 * np.dot(x, y)"
   ],
   "metadata": {
    "collapsed": false,
    "pycharm": {
     "name": "#%%\n"
    }
   }
  },
  {
   "cell_type": "code",
   "execution_count": 277,
   "outputs": [
    {
     "name": "stdout",
     "output_type": "stream",
     "text": [
      "При использовании утроенного скалярного произведение векторов\n",
      "пространство будет евклидовым\n"
     ]
    }
   ],
   "source": [
    "a = np.array([4, 2, 4])\n",
    "b = np.array([12, 3, 4])\n",
    "print('При использовании утроенного скалярного произведение векторов')\n",
    "if is_evklid(three_dot, a, b, 4):\n",
    "    print('пространство будет евклидовым')\n",
    "else:\n",
    "    print('не пространство будет евклидовым')"
   ],
   "metadata": {
    "collapsed": false,
    "pycharm": {
     "name": "#%%\n"
    }
   }
  },
  {
   "cell_type": "markdown",
   "source": [
    "### Задача 4\n",
    "Какие из нижеперечисленных векторов образуют ортонормированный базис в линейном пространстве  R3 :\n",
    "    а)  (1,0,0), (0,0,1);\n",
    "    б)  (1/(2^0.5^),−1/(2^0.5^),0), (1/(2^0.5^),1/(2^0.5^),0), (0,0,1);\n",
    "    в)  (1/2,−1/2,0), (0,1/2,1/2), (0,0,1);\n",
    "    г)  (1,0,0), (0,1,0), (0,0,1)?"
   ],
   "metadata": {
    "collapsed": false,
    "pycharm": {
     "name": "#%% md\n"
    }
   }
  },
  {
   "cell_type": "code",
   "execution_count": 278,
   "outputs": [],
   "source": [
    "def is_ortonorm(e):\n",
    "    \"\"\"\n",
    "    Проверяет ортонормальность векторов\n",
    "    :param e: список векторов\n",
    "    :return: решение об ортонормальности\n",
    "    \"\"\"\n",
    "    # Попарно сравниваем вектор и если хоть один не подходит значит все не подходят\n",
    "    for ei in e:\n",
    "        for ej in e:\n",
    "            # (ei,ei)=1   ∀   i∈[1,n].\n",
    "            if (ei == ej).all():\n",
    "                if ei @ ej != 1:\n",
    "                    return False\n",
    "            else:\n",
    "                # (ei,ej)=0   ∀   i≠j\n",
    "                if ei @ ej != 0:\n",
    "                    return False\n",
    "    return True"
   ],
   "metadata": {
    "collapsed": false,
    "pycharm": {
     "name": "#%%\n"
    }
   }
  },
  {
   "cell_type": "code",
   "execution_count": 279,
   "outputs": [
    {
     "name": "stdout",
     "output_type": "stream",
     "text": [
      "Предложенные векторы образуют ортонормальный базис\n"
     ]
    }
   ],
   "source": [
    "# Решение а)\n",
    "a = np.array([1, 0, 0])\n",
    "b = np.array([0, 0, 1])\n",
    "if is_ortonorm([a, b]):\n",
    "    print('Предложенные векторы образуют ортонормальный базис')\n",
    "else:\n",
    "    print('Предложенные векторы НЕ образуют ортонормальный базис')"
   ],
   "metadata": {
    "collapsed": false,
    "pycharm": {
     "name": "#%%\n"
    }
   }
  },
  {
   "cell_type": "code",
   "execution_count": 280,
   "outputs": [
    {
     "name": "stdout",
     "output_type": "stream",
     "text": [
      "Предложенные векторы НЕ образуют ортонормальный базис\n"
     ]
    }
   ],
   "source": [
    "# Решение б)\n",
    "a = np.array([1/pow(2, 0.5), -1/pow(2, 0.5), 0])\n",
    "b = np.array([1/pow(2, 0.5), 1/pow(2, 0.5), 0])\n",
    "c = np.array([0, 0, 1])\n",
    "if is_ortonorm([a, b, c]):\n",
    "    print('Предложенные векторы образуют ортонормальный базис')\n",
    "else:\n",
    "    print('Предложенные векторы НЕ образуют ортонормальный базис')"
   ],
   "metadata": {
    "collapsed": false,
    "pycharm": {
     "name": "#%%\n"
    }
   }
  },
  {
   "cell_type": "code",
   "execution_count": 281,
   "outputs": [
    {
     "name": "stdout",
     "output_type": "stream",
     "text": [
      "Предложенные векторы НЕ образуют ортонормальный базис\n"
     ]
    }
   ],
   "source": [
    "# Решение в)\n",
    "a = np.array([1/2, -1/2, 0])\n",
    "b = np.array([0, 1/2, 1/2])\n",
    "c = np.array([0, 0, 1])\n",
    "if is_ortonorm([a, b, c]):\n",
    "    print('Предложенные векторы образуют ортонормальный базис')\n",
    "else:\n",
    "    print('Предложенные векторы НЕ образуют ортонормальный базис')"
   ],
   "metadata": {
    "collapsed": false,
    "pycharm": {
     "name": "#%%\n"
    }
   }
  },
  {
   "cell_type": "code",
   "execution_count": 282,
   "outputs": [
    {
     "name": "stdout",
     "output_type": "stream",
     "text": [
      "Предложенные векторы образуют ортонормальный базис\n"
     ]
    }
   ],
   "source": [
    "# Решение г)\n",
    "a = np.array([1, 0, 0])\n",
    "b = np.array([0, 1, 0])\n",
    "c = np.array([0, 0, 1])\n",
    "if is_ortonorm([a, b, c]):\n",
    "    print('Предложенные векторы образуют ортонормальный базис')\n",
    "else:\n",
    "    print('Предложенные векторы НЕ образуют ортонормальный базис')"
   ],
   "metadata": {
    "collapsed": false,
    "pycharm": {
     "name": "#%%\n"
    }
   }
  }
 ],
 "metadata": {
  "kernelspec": {
   "display_name": "Python 3",
   "language": "python",
   "name": "python3"
  },
  "language_info": {
   "codemirror_mode": {
    "name": "ipython",
    "version": 2
   },
   "file_extension": ".py",
   "mimetype": "text/x-python",
   "name": "python",
   "nbconvert_exporter": "python",
   "pygments_lexer": "ipython2",
   "version": "2.7.6"
  }
 },
 "nbformat": 4,
 "nbformat_minor": 0
}