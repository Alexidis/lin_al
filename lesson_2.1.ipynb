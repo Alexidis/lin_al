{
 "cells": [
  {
   "cell_type": "code",
   "execution_count": 50,
   "outputs": [],
   "source": [
    "import numpy as np"
   ],
   "metadata": {
    "collapsed": false,
    "pycharm": {
     "name": "#%%\n"
    }
   }
  },
  {
   "cell_type": "markdown",
   "source": [
    "### Задача 1\n",
    "Установить, какие произведения матриц  AB  и  BA  определены, и найти размерности полученных матриц:\n",
    "а)  A  — матрица  4×2 ,  B  — матрица  4×2 ;\n",
    "б)  A  — матрица  2×5 ,  B  — матрица  5×3 ;\n",
    "в)  A  — матрица  8×3 ,  B  — матрица  3×8 ;\n",
    "г)  A  — квадратная матрица  4×4 ,  B  — квадратная матрица  4×4 ."
   ],
   "metadata": {
    "collapsed": false,
    "pycharm": {
     "name": "#%% md\n"
    }
   }
  },
  {
   "cell_type": "markdown",
   "source": [
    "а)  A  — матрица  4×2 ,  B  — матрица  4×2 ;\n",
    "AB - не определено\n",
    "BA - не определено\n",
    "\n",
    "б)  A  — матрица  2×5 ,  B  — матрица  5×3 ;\n",
    "AB - 2 *3\n",
    "BA - не определено\n",
    "\n",
    "в)  A  — матрица  8×3 ,  B  — матрица  3×8 ;\n",
    "AB - 8 * 8\n",
    "BA - 3 * 3\n",
    "\n",
    "г)  A  — квадратная матрица  4×4 ,  B  — квадратная матрица  4×4 .\n",
    "AB - 4 * 4\n",
    "BA - 4 * 4"
   ],
   "metadata": {
    "collapsed": false,
    "pycharm": {
     "name": "#%% md\n"
    }
   }
  },
  {
   "cell_type": "markdown",
   "source": [
    "### Задача 2\n",
    "Найти сумму и произведение матриц\n",
    "A\n",
    "\n",
    "---|---\n",
    "1  | -2\n",
    "3  |  0\n",
    "\n",
    "B\n",
    "\n",
    "---|---\n",
    "4  | -1\n",
    "0  |  5"
   ],
   "metadata": {
    "collapsed": false,
    "pycharm": {
     "name": "#%% md\n"
    }
   }
  },
  {
   "cell_type": "code",
   "source": [
    "a1 = np.array([[1, -2],\n",
    "               [3, 0]])\n",
    "\n",
    "b1 = np.array([[4, -1],\n",
    "               [0, 5]])\n",
    "\n",
    "sum = np.array([[1 + 4, (-2) + (-1)],\n",
    "                [3 + 0, 0 + 5]])\n",
    "\n",
    "prod = np.array([[1 * 4 + (-2) * 0,\n",
    "                  1 * (-1) + (-2) * 5],\n",
    "                 [3 * 4 + 0 * 0,\n",
    "                  3 * (-1) + 0 * 5]])\n",
    "\n",
    "print(f'Сумма матриц \\n{sum}')\n",
    "print(f'Произведение матриц \\n{prod}')"
   ],
   "metadata": {
    "collapsed": false,
    "pycharm": {
     "name": "#%%\n"
    }
   },
   "execution_count": 51,
   "outputs": [
    {
     "name": "stdout",
     "output_type": "stream",
     "text": [
      "Сумма матриц \n",
      "[[ 5 -3]\n",
      " [ 3  5]]\n",
      "Произведение матриц \n",
      "[[  4 -11]\n",
      " [ 12  -3]]\n"
     ]
    }
   ]
  },
  {
   "cell_type": "markdown",
   "source": [
    "### Задача 3\n",
    "Из закономерностей сложения и умножения матриц на число можно сделать вывод, что матрицы одного размера образуют линейное пространство.\n",
    "Вычислить линейную комбинацию  3A−2B+4C  для матриц\n",
    "A\n",
    "\n",
    "---|---\n",
    "1  | 3\n",
    "7  |  -6\n",
    "\n",
    "B\n",
    "\n",
    "---|---\n",
    "0  | 2\n",
    "5  |  -1\n",
    "\n",
    "C\n",
    "\n",
    "---|---\n",
    "2  | -4\n",
    "1  |  1"
   ],
   "metadata": {
    "collapsed": false,
    "pycharm": {
     "name": "#%% md\n"
    }
   }
  },
  {
   "cell_type": "code",
   "source": [
    "a2 = np.array([[1, 3],\n",
    "               [7, -6]])\n",
    "\n",
    "b2 = np.array([[0, 5],\n",
    "               [2, -1]])\n",
    "\n",
    "c2 = np.array([[2, -4],\n",
    "               [1, 1]])\n",
    "\n",
    "a_mul3 = np.array([[1 * 3, 3 * 3],[7 * 3, -6 * 3]])\n",
    "b_mul2 = np.array([[0 * 2, 5 * 2],[2 * 2, -1 * 2]])\n",
    "c_mul4 = np.array([[2 * 4, -4 * 4],[1 * 4, 1 * 4]])\n",
    "\n",
    "\n",
    "a_mul3_sub_b_mul2_sum_c_mul4 = np.array([[(1 * 3) - (0 * 2) + (2 * 4), (3 * 3) - (5 * 2) + (-4 * 4)],\n",
    "                                         [(7 * 3) - (2 * 2) + (1 * 4), (-6 * 3) - (-1 * 2) + (1 * 4)]])\n",
    "\n",
    "print(f'3A−2B+4C =\\n {a_mul3_sub_b_mul2_sum_c_mul4}')"
   ],
   "metadata": {
    "collapsed": false,
    "pycharm": {
     "name": "#%%\n"
    }
   },
   "execution_count": 52,
   "outputs": [
    {
     "name": "stdout",
     "output_type": "stream",
     "text": [
      "3A−2B+4C =\n",
      " [[ 11 -11]\n",
      " [ 15 -12]]\n"
     ]
    }
   ]
  },
  {
   "cell_type": "code",
   "execution_count": 53,
   "outputs": [
    {
     "data": {
      "text/plain": "array([[ 11, -11],\n       [ 15, -12]])"
     },
     "execution_count": 53,
     "metadata": {},
     "output_type": "execute_result"
    }
   ],
   "source": [
    "a_mul3 - b_mul2 + c_mul4"
   ],
   "metadata": {
    "collapsed": false,
    "pycharm": {
     "name": "#%%\n"
    }
   }
  },
  {
   "cell_type": "markdown",
   "source": [
    "### Задача 4\n",
    "Дана матрица\n",
    "A=\n",
    "\n",
    "---|---\n",
    "4  | 1\n",
    "5  |  -2\n",
    "2  | 3\n",
    "\n",
    "Вычислить  AA^T^  и  A^T^A"
   ],
   "metadata": {
    "collapsed": false,
    "pycharm": {
     "name": "#%% md\n"
    }
   }
  },
  {
   "cell_type": "code",
   "execution_count": 54,
   "outputs": [
    {
     "name": "stdout",
     "output_type": "stream",
     "text": [
      "Произведение матрицы А на транспонированную А\n",
      "[[17 18 11]\n",
      " [18 29  4]\n",
      " [11  4 13]]\n",
      "Произведение транспонированной матрицы А на А\n",
      "[[45  0]\n",
      " [ 0 14]]\n"
     ]
    }
   ],
   "source": [
    "a3 = np.array([[4, 1],\n",
    "               [5, -2],\n",
    "               [2, 3]])\n",
    "\n",
    "a3t = np.array([[4, 5, 2],\n",
    "                [1, -2, 3]])\n",
    "\n",
    "a3_mul_a3t = np.array([[4 * 4 + 1 * 1,\n",
    "                        4 * 5 + 1 * (-2),\n",
    "                        4 * 2 + 1 * 3],\n",
    "                       [5 * 4 + (-2) * 1,\n",
    "                        5 * 5 + (-2) * (-2),\n",
    "                        5 * 2 + (-2) * 3],\n",
    "                       [2 * 4+ 3 * 1,\n",
    "                        2 * 5+ 3 * (-2),\n",
    "                        2 * 2+ 3 * 3]])\n",
    "\n",
    "a3t_mul_a3 = np.array([[4 * 4 + 5 * 5 + 2 * 2,\n",
    "                        4 * 1 + 5 * (-2) + 2 * 3],\n",
    "                       [1 * 4 + (-2) * 5 + 3 * 2,\n",
    "                        1 * 1 + (-2) *  (-2) + 3 *3]])\n",
    "\n",
    "print(f'Произведение матрицы А на транспонированную А\\n{a3_mul_a3t}')\n",
    "print(f'Произведение транспонированной матрицы А на А\\n{a3t_mul_a3}')"
   ],
   "metadata": {
    "collapsed": false,
    "pycharm": {
     "name": "#%%\n"
    }
   }
  }
 ],
 "metadata": {
  "kernelspec": {
   "display_name": "Python 3",
   "language": "python",
   "name": "python3"
  },
  "language_info": {
   "codemirror_mode": {
    "name": "ipython",
    "version": 2
   },
   "file_extension": ".py",
   "mimetype": "text/x-python",
   "name": "python",
   "nbconvert_exporter": "python",
   "pygments_lexer": "ipython2",
   "version": "2.7.6"
  }
 },
 "nbformat": 4,
 "nbformat_minor": 0
}