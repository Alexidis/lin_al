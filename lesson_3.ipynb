{
 "cells": [
  {
   "cell_type": "code",
   "execution_count": 1,
   "outputs": [],
   "source": [
    "import numpy as np"
   ],
   "metadata": {
    "collapsed": false,
    "pycharm": {
     "name": "#%%\n"
    }
   }
  },
  {
   "cell_type": "markdown",
   "source": [
    "### Задача 1\n",
    "Найти собственные векторы и собственные значения для линейного оператора, заданного матрицей\n",
    "\n",
    "$$A=\\begin{pmatrix}\n",
    "-1 & -6\\\\\n",
    "2 & 6\n",
    "\\end{pmatrix}.$$"
   ],
   "metadata": {
    "collapsed": false,
    "pycharm": {
     "name": "#%% md\n"
    }
   }
  },
  {
   "cell_type": "code",
   "execution_count": 2,
   "outputs": [
    {
     "name": "stdout",
     "output_type": "stream",
     "text": [
      "Собственные векторы\n",
      "[[-0.89442719  0.83205029]\n",
      " [ 0.4472136  -0.5547002 ]]\n",
      "Собственные значения\n",
      "[2. 3.]\n"
     ]
    }
   ],
   "source": [
    "a = np.array([[-1, -6], [2, 6]])\n",
    "w, v = np.linalg.eig(a)\n",
    "\n",
    "print(f'Собственные векторы\\n{v}')\n",
    "print(f'Собственные значения\\n{w}')"
   ],
   "metadata": {
    "collapsed": false,
    "pycharm": {
     "name": "#%%\n"
    }
   }
  },
  {
   "cell_type": "markdown",
   "source": [
    "### Задача 2\n",
    "Дан оператор поворота на 180 градусов, задаваемый матрицей\n",
    "\n",
    "$$\n",
    "{A=\\begin{pmatrix}\n",
    "-1 & 0\\\\\n",
    "0 & -1\n",
    "\\end{pmatrix}.\n",
    "$$\n",
    "\n",
    "Показать, что любой вектор является для него собственным.\n"
   ],
   "metadata": {
    "collapsed": false,
    "pycharm": {
     "name": "#%% md\n"
    }
   }
  },
  {
   "cell_type": "markdown",
   "source": [
    "характеристическое уравнение для любого вектора и данного оператор будет равно\n",
    "\\begin{equation*}\n",
    " \\begin{cases}\n",
    "   -x = $\\lambda\\ * x,\n",
    "   \\\\\n",
    "   -y = $\\lambda\\ * y,\n",
    " \\end{cases}\n",
    "\\end{equation*}\n",
    "\n",
    "то lambda  = -1\n",
    "следовательно любой не нулевой вектор (а собственные вектора не могут быть нулевыми) будет иметь решение, а следовательно - любой вектор собственный"
   ],
   "metadata": {
    "collapsed": false,
    "pycharm": {
     "name": "#%% md\n"
    }
   }
  },
  {
   "cell_type": "markdown",
   "source": [
    "### Задача 3\n",
    "Пусть линейный оператор задан матрицей\n",
    "\n",
    "$$\n",
    "{A=\\begin{pmatrix}\n",
    "1 & 1\\\\\n",
    "-1 & 3\n",
    "\\end{pmatrix}.\n",
    "$$\n",
    "\n",
    "Установить, является ли вектор  x=(1,1)  собственным вектором этого линейного оператора."
   ],
   "metadata": {
    "collapsed": false,
    "pycharm": {
     "name": "#%% md\n"
    }
   }
  },
  {
   "cell_type": "code",
   "execution_count": 6,
   "outputs": [
    {
     "data": {
      "text/plain": "array([0, 2])"
     },
     "execution_count": 6,
     "metadata": {},
     "output_type": "execute_result"
    }
   ],
   "source": [
    "a = np.array([[-1, 1], [-1, 3]])\n",
    "x = np.array([1, 1])\n",
    "\n",
    "a.dot(x)"
   ],
   "metadata": {
    "collapsed": false,
    "pycharm": {
     "name": "#%%\n"
    }
   }
  },
  {
   "cell_type": "markdown",
   "source": [
    "т.к. система\n",
    "\n",
    "\\begin{equation*}\n",
    " \\begin{cases}\n",
    "   0 = $\\lambda\\,\n",
    "   \\\\\n",
    "   2 = $\\lambda\\,\n",
    " \\end{cases}\n",
    "\\end{equation*}\n",
    "\n",
    "не имеет решений, то вектор x=(1, 1) не является собственным"
   ],
   "metadata": {
    "collapsed": false,
    "pycharm": {
     "name": "#%% md\n"
    }
   }
  },
  {
   "cell_type": "markdown",
   "source": [
    "### Задача 4\n",
    "Пусть линейный оператор задан матрицей\n",
    "\n",
    "$$\n",
    "\\begin{flushleft}\n",
    "{A=\\begin{pmatrix}\n",
    "0 & 3 & 0\\\\\n",
    "3 & 0 & 0\\\\\n",
    "0 & 0 & 3\n",
    "\\end{pmatrix}\n",
    "\\end{flushleft}\n",
    "$$\n",
    "\n",
    "Установить, является ли вектор  x=(3,−3,−4)  собственным вектором этого линейного оператора."
   ],
   "metadata": {
    "collapsed": false,
    "pycharm": {
     "name": "#%% md\n"
    }
   }
  },
  {
   "cell_type": "code",
   "execution_count": 4,
   "outputs": [
    {
     "data": {
      "text/plain": "array([ -9,   9, -12])"
     },
     "execution_count": 4,
     "metadata": {},
     "output_type": "execute_result"
    }
   ],
   "source": [
    "a = np.array([[0, 3, 0], [3, 0, 0], [0, 0, 3]])\n",
    "x = np.array([3, -3, -4])\n",
    "\n",
    "a.dot(x)"
   ],
   "metadata": {
    "collapsed": false,
    "pycharm": {
     "name": "#%%\n"
    }
   }
  },
  {
   "cell_type": "markdown",
   "source": [
    "т.к. решением системы\n",
    "\n",
    "\\begin{equation*}\n",
    " \\begin{cases}\n",
    "   -9 = 3 * $\\lambda\\,\n",
    "   \\\\\n",
    "   9 = -3 * $\\lambda\\,\n",
    "   \\\\\n",
    "   -12 = 4 * $\\lambda\\,\n",
    " \\end{cases}\n",
    "\\end{equation*}\n",
    "\n",
    " является -3, то вектор x=(3,−3,−4) является собственным вектором"
   ],
   "metadata": {
    "collapsed": false,
    "pycharm": {
     "name": "#%% md\n"
    }
   }
  }
 ],
 "metadata": {
  "kernelspec": {
   "display_name": "Python 3",
   "language": "python",
   "name": "python3"
  },
  "language_info": {
   "codemirror_mode": {
    "name": "ipython",
    "version": 2
   },
   "file_extension": ".py",
   "mimetype": "text/x-python",
   "name": "python",
   "nbconvert_exporter": "python",
   "pygments_lexer": "ipython2",
   "version": "2.7.6"
  }
 },
 "nbformat": 4,
 "nbformat_minor": 0
}