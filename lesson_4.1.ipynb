{
 "cells": [
  {
   "cell_type": "code",
   "execution_count": 80,
   "outputs": [],
   "source": [
    "import numpy as np"
   ],
   "metadata": {
    "collapsed": false,
    "pycharm": {
     "name": "#%%\n"
    }
   }
  },
  {
   "cell_type": "markdown",
   "source": [
    "### Задача 1\n",
    "Решить систему уравнений методом Гаусса:\n",
    "\n",
    "$$\\begin{cases} x_{1}+x_{2}-x_{3}-2x_{4}=0, \\\\ 2x_{1}+x_{2}-x_{3}+x_{4}=-2, \\\\ x_{1}+x_{2}-3x_{3}+x_{4}=4. \\end{cases}$$"
   ],
   "metadata": {
    "collapsed": false,
    "pycharm": {
     "name": "#%% md\n"
    }
   }
  },
  {
   "cell_type": "code",
   "source": [
    "# т.к. ранги матрицы и расширенной матрицы совпадают, но отличаются от числа неизвестных, то система будет иметь бесконечное количество решений\n",
    "\n",
    "a1 = np.array([1, 1, -1, -2, 0])\n",
    "a2 = np.array([2, 1, -1, 1, -2])\n",
    "a3 = np.array([1, 1, -3, 1, 4])\n",
    "a1"
   ],
   "metadata": {
    "collapsed": false,
    "pycharm": {
     "name": "#%%\n"
    }
   },
   "execution_count": 81,
   "outputs": [
    {
     "data": {
      "text/plain": "array([ 1,  1, -1, -2,  0])"
     },
     "execution_count": 81,
     "metadata": {},
     "output_type": "execute_result"
    }
   ]
  },
  {
   "cell_type": "code",
   "execution_count": 82,
   "outputs": [
    {
     "data": {
      "text/plain": "array([ 0, -1,  1,  5, -2])"
     },
     "execution_count": 82,
     "metadata": {},
     "output_type": "execute_result"
    }
   ],
   "source": [
    "a2_ = a2 - a1 * 2\n",
    "a2_"
   ],
   "metadata": {
    "collapsed": false,
    "pycharm": {
     "name": "#%%\n"
    }
   }
  },
  {
   "cell_type": "code",
   "execution_count": 83,
   "outputs": [
    {
     "data": {
      "text/plain": "array([ 0,  0, -2,  3,  4])"
     },
     "execution_count": 83,
     "metadata": {},
     "output_type": "execute_result"
    }
   ],
   "source": [
    "a3_ = a3 - a1\n",
    "a3_"
   ],
   "metadata": {
    "collapsed": false,
    "pycharm": {
     "name": "#%%\n"
    }
   }
  },
  {
   "cell_type": "markdown",
   "source": [
    "x4 - делаем параметром и для простоты приравниваем к 1"
   ],
   "metadata": {
    "collapsed": false,
    "pycharm": {
     "name": "#%% md\n"
    }
   }
  },
  {
   "cell_type": "code",
   "execution_count": 84,
   "outputs": [
    {
     "name": "stdout",
     "output_type": "stream",
     "text": [
      "Частное решение для СЛАУ\n",
      "x1 = -5.0\n",
      "x2 = 6.5\n",
      "x3 = -0.5\n",
      "x4 = 1\n",
      "\n"
     ]
    }
   ],
   "source": [
    "x4 = 1\n",
    "x3 = (4 - 3 * x4) / (-2)\n",
    "x2  = 2 + x3 + 5 * x4\n",
    "x1 = -x2 + x3 + 2 * x4\n",
    "\n",
    "print(f'Частное решение для СЛАУ')\n",
    "print(f'x1 = {x1}\\nx2 = {x2}\\nx3 = {x3}\\nx4 = {x4}\\n')"
   ],
   "metadata": {
    "collapsed": false,
    "pycharm": {
     "name": "#%%\n"
    }
   }
  },
  {
   "cell_type": "markdown",
   "source": [
    "### Задача 2\n",
    "Проверить на совместность и выяснить, сколько решений будет иметь система линейных уравнений:"
   ],
   "metadata": {
    "collapsed": false,
    "pycharm": {
     "name": "#%% md\n"
    }
   }
  },
  {
   "cell_type": "code",
   "execution_count": 85,
   "outputs": [],
   "source": [
    "def kron_kop(base_m, free_members):\n",
    "    A = base_m\n",
    "    A_ = np.c_[A, free_members.T]\n",
    "\n",
    "    rankA = np.linalg.matrix_rank(base_m)\n",
    "    rankA_ = np.linalg.matrix_rank(A_)\n",
    "    n = A.shape[1]\n",
    "\n",
    "    if rankA != rankA_ :\n",
    "        print('Система несовместна, решений нет')\n",
    "    elif rankA == n:\n",
    "        print('Система совместна и определена (имеет одно решение)')\n",
    "    else:\n",
    "        print('Система совместна и имеет бесконечное количество решений')\n",
    "\n",
    "# 1) если  rankA=rankA~=n , где  n  — число неизвестных, то система определена, т. е. имеет единственное решение;\n",
    "# 2) если  rankA=rankA~<n , то система имеет бесконечное количество решений;\n",
    "# 3) если  rankA<rankA~ , то система несовместна."
   ],
   "metadata": {
    "collapsed": false,
    "pycharm": {
     "name": "#%%\n"
    }
   }
  },
  {
   "cell_type": "markdown",
   "source": [
    "а) $\\begin{cases} 3x_{1}-x_{2}+x_{3}=4, \\\\ 2x_{1}-5x_{2}-3x_{3}=-17, \\\\ x_{1}+x_{2}-x_{3}=0; \\end{cases}$"
   ],
   "metadata": {
    "collapsed": false,
    "pycharm": {
     "name": "#%% md\n"
    }
   }
  },
  {
   "cell_type": "code",
   "execution_count": 86,
   "outputs": [
    {
     "name": "stdout",
     "output_type": "stream",
     "text": [
      "Система совместна и определена (имеет одно решение)\n"
     ]
    }
   ],
   "source": [
    "A = np.array([[3, -1, 1],\n",
    "              [2, -5, -3],\n",
    "              [1, 1, -1]])\n",
    "b = np.array([4, -17, 0])\n",
    "kron_kop(A, b)"
   ],
   "metadata": {
    "collapsed": false,
    "pycharm": {
     "name": "#%%\n"
    }
   }
  },
  {
   "cell_type": "markdown",
   "source": [
    "б) $\\begin{cases} 2x_{1}-4x_{2}+6x_{3}=1, \\\\ x_{1}-2x_{2}+3x_{3}=-2, \\\\ 3x_{1}-6x_{2}+9x_{3}=5; \\end{cases}$"
   ],
   "metadata": {
    "collapsed": false,
    "pycharm": {
     "name": "#%% md\n"
    }
   }
  },
  {
   "cell_type": "code",
   "execution_count": 87,
   "outputs": [
    {
     "name": "stdout",
     "output_type": "stream",
     "text": [
      "Система несовместна, решений нет\n"
     ]
    }
   ],
   "source": [
    "A = np.array([[2, -4, 6],\n",
    "              [1, -2, 3],\n",
    "              [3, -6, 9]])\n",
    "b = np.array([1, -2, 5])\n",
    "kron_kop(A, b)"
   ],
   "metadata": {
    "collapsed": false,
    "pycharm": {
     "name": "#%%\n"
    }
   }
  },
  {
   "cell_type": "markdown",
   "source": [
    "в) $\\begin{cases} x_{1}+2x_{2}+5x_{3}=4, \\\\ 3x_{1}+x_{2}-8x_{3}=-2. \\end{cases}$"
   ],
   "metadata": {
    "collapsed": false,
    "pycharm": {
     "name": "#%% md\n"
    }
   }
  },
  {
   "cell_type": "code",
   "execution_count": 88,
   "outputs": [
    {
     "name": "stdout",
     "output_type": "stream",
     "text": [
      "Система совместна и имеет бесконечное количество решений\n"
     ]
    }
   ],
   "source": [
    "A = np.array([[1, 2, 5],\n",
    "              [3, 1, -8]])\n",
    "b = np.array([4, -2])\n",
    "kron_kop(A, b)"
   ],
   "metadata": {
    "collapsed": false,
    "pycharm": {
     "name": "#%%\n"
    }
   }
  },
  {
   "cell_type": "markdown",
   "source": [
    "### Задача 3\n",
    "Проверить на совместность и выяснить, сколько решений будет иметь система линейных уравнений, заданная расширенной матрицей\n",
    "\n",
    "$$\\tilde{A}=\\begin{pmatrix} \\left.\\begin{matrix} 1 & 3 & -2 & 4\\\\ 0 & 5 & 0 & 1\\\\ 0 & 0 & 3 & 0\\\\ 0 & 0 & 0 & 2 \\end{matrix}\\right| \\begin{matrix} 3\\\\ 2\\\\ 4\\\\ 1 \\end{matrix} \\end{pmatrix}.$$"
   ],
   "metadata": {
    "collapsed": false,
    "pycharm": {
     "name": "#%% md\n"
    }
   }
  },
  {
   "cell_type": "code",
   "execution_count": 89,
   "outputs": [
    {
     "name": "stdout",
     "output_type": "stream",
     "text": [
      "Система совместна и определена (имеет одно решение)\n"
     ]
    }
   ],
   "source": [
    "A = np.array([[1, 3, -2, 4],\n",
    "              [0, 5, 0, 1],\n",
    "              [0, 0, 3, 0],\n",
    "              [0, 0, 0, 2]])\n",
    "b = np.array([3, -2, 4, 1])\n",
    "kron_kop(A, b)"
   ],
   "metadata": {
    "collapsed": false,
    "pycharm": {
     "name": "#%%\n"
    }
   }
  },
  {
   "cell_type": "markdown",
   "source": [
    "### Задача 4\n",
    "Дана система линейных уравнений, заданная расширенной матрицей\n",
    "\n",
    "$$\\tilde{A}=\\begin{pmatrix} \\left.\\begin{matrix} 1 & 2 & 3\\\\ 4 & 5 & 6\\\\ 7 & 8 & 9 \\end{matrix}\\right| \\begin{matrix} a\\\\ b\\\\ c \\end{matrix} \\end{pmatrix}.$$\n",
    "\n",
    "Найти соотношение между параметрами $a$, $b$ и $c$, при которых система является несовместной."
   ],
   "metadata": {
    "collapsed": false,
    "pycharm": {
     "name": "#%% md\n"
    }
   }
  },
  {
   "cell_type": "code",
   "execution_count": 90,
   "outputs": [
    {
     "data": {
      "text/plain": "2"
     },
     "execution_count": 90,
     "metadata": {},
     "output_type": "execute_result"
    }
   ],
   "source": [
    "A = np.array([[1, 2, 3],\n",
    "              [4, 5, 6],\n",
    "              [7, 8, 9]])\n",
    "np.linalg.matrix_rank(A)"
   ],
   "metadata": {
    "collapsed": false,
    "pycharm": {
     "name": "#%%\n"
    }
   }
  },
  {
   "cell_type": "markdown",
   "source": [
    "т.к. система является не совместной если не совпадают ранги матрицы и расширенной матрицы, а ранг матрицы равен 2, то система будет несовместной если\n",
    "1) все три параметра отличны от нуля\n",
    "2) два из трех параметров равны 0"
   ],
   "metadata": {
    "collapsed": false,
    "pycharm": {
     "name": "#%% md\n"
    }
   }
  }
 ],
 "metadata": {
  "kernelspec": {
   "display_name": "Python 3",
   "language": "python",
   "name": "python3"
  },
  "language_info": {
   "codemirror_mode": {
    "name": "ipython",
    "version": 2
   },
   "file_extension": ".py",
   "mimetype": "text/x-python",
   "name": "python",
   "nbconvert_exporter": "python",
   "pygments_lexer": "ipython2",
   "version": "2.7.6"
  }
 },
 "nbformat": 4,
 "nbformat_minor": 0
}